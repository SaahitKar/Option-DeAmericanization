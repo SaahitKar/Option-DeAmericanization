{
 "cells": [
  {
   "cell_type": "markdown",
   "metadata": {
    "id": "EnSEF5ZI63rp"
   },
   "source": [
    "# American Put Options with the Binomial Asset Pricing Model\n",
    "\n",
    "<b> YouTube Tutorial </b> (Published: Jul 13, 2021): https://youtu.be/K2Iy8bCmXjk\n",
    "\n",
    "Implementation of a simple slow and fast binomial pricing model in python. We will treat binomial tree as a network with nodes (i,j) with i representing the time steps and j representing the number of ordered price outcome (lowest - or bottom of tree - to highest).\n",
    "\n",
    "- american_tree_slow\n",
    "- american_tree_fast\n"
   ]
  },
  {
   "cell_type": "code",
   "execution_count": 1,
   "metadata": {
    "id": "s_xibZws63rt"
   },
   "outputs": [],
   "source": [
    "import numpy as np"
   ]
  },
  {
   "cell_type": "markdown",
   "metadata": {
    "id": "6g6quLtD63ru"
   },
   "source": [
    "### Generic timing wrapper function\n",
    "We will use this to benchmark the two binomial models"
   ]
  },
  {
   "cell_type": "code",
   "execution_count": 2,
   "metadata": {
    "id": "Wl-cP9KM63ru"
   },
   "outputs": [],
   "source": [
    "from functools import wraps\n",
    "from time import time\n",
    "\n",
    "def timing(f):\n",
    "    @wraps(f)\n",
    "    def wrap(*args, **kw):\n",
    "        ts = time()\n",
    "        result = f(*args, **kw)\n",
    "        te = time()\n",
    "        print('func:%r args:[%r, %r] took: %2.4f sec' % \\\n",
    "          (f.__name__, args, kw, te-ts))\n",
    "        return result\n",
    "    return wrap"
   ]
  },
  {
   "cell_type": "markdown",
   "metadata": {
    "id": "AHCyvN8R63rv"
   },
   "source": [
    "### Binomial Tree Representation\n",
    "\n",
    "Stock tree can be represented using nodes (i,j) and intial stock price $S_0$\n",
    "\n",
    "$S_{i,j} = S_0u^{j}d^{i-j}$\n",
    "\n",
    "$C_{i,j}$ represents contract price at each node (i,j). Where $C_{N,j}$ represents final payoff function that we can define."
   ]
  },
  {
   "cell_type": "markdown",
   "metadata": {
    "id": "JOaH1b4t63rv"
   },
   "source": [
    "### American Option Characteristics\n",
    "For an American Put Option:\n",
    "\n",
    "if $T = t_N$ then at the terminal nodes, $C^{j}_N = (K-S^{j}_N)^{+}$\n",
    "\n",
    "for all other parts of the tree at nodes $(i,j)$\n",
    "\n",
    "- Max of exercise value or continuation/hold value\n",
    "\n",
    "- $C^{j}_i = \\max \\Big((K-S^{j}_i)^{+}, \\exp^{-r\\Delta t} \\big\\{ q^{j}_i C^{j+1}_{i+1} + (1 - q^{j}_i)C^{j-1}_{i-1}\\big\\}\\Big)$"
   ]
  },
  {
   "cell_type": "code",
   "execution_count": 3,
   "metadata": {
    "id": "4Czsjivz63rv"
   },
   "outputs": [],
   "source": [
    "# Initialise parameters\n",
    "S0 = 100      # initial stock price\n",
    "K = 100       # strike price\n",
    "T = 1         # time to maturity in years\n",
    "r = 0.06      # annual risk-free rate\n",
    "N = 3         # number of time steps\n",
    "u = 1.1       # up-factor in binomial models\n",
    "d = 1/u       # ensure recombining tree\n",
    "opttype = 'P' # Option Type 'C' or 'P'"
   ]
  },
  {
   "cell_type": "markdown",
   "metadata": {
    "id": "JtDk_bOc63rw"
   },
   "source": [
    "### American Tree Slow\n",
    "\n",
    "Here we will use for loops to iterate through nodes j at each time step i."
   ]
  },
  {
   "cell_type": "code",
   "execution_count": 4,
   "metadata": {
    "colab": {
     "base_uri": "https://localhost:8080/"
    },
    "executionInfo": {
     "elapsed": 325,
     "status": "ok",
     "timestamp": 1644887256471,
     "user": {
      "displayName": "Jonathon Emerick",
      "photoUrl": "https://lh3.googleusercontent.com/a-/AOh14Giq9xEw4DhtJYHMD-QFk9rivPfE8jUcWMAkBjHx=s64",
      "userId": "16629380951441395759"
     },
     "user_tz": -600
    },
    "id": "cU00lnpu63rw",
    "outputId": "b5d57446-7323-4315-eddc-636157a803b0"
   },
   "outputs": [
    {
     "name": "stdout",
     "output_type": "stream",
     "text": [
      "func:'american_slow_tree' args:[(100, 1, 100, 0.06, 3, 1.1, 0.9090909090909091), {'opttype': 'P'}] took: 0.0020 sec\n"
     ]
    },
    {
     "data": {
      "text/plain": [
       "np.float64(4.654588754602527)"
      ]
     },
     "execution_count": 4,
     "metadata": {},
     "output_type": "execute_result"
    }
   ],
   "source": [
    " @timing\n",
    "def american_slow_tree(K,T,S0,r,N,u,d,opttype='P'):\n",
    "    #precompute values\n",
    "    dt = T/N\n",
    "    q = (np.exp(r*dt) - d)/(u-d)\n",
    "    disc = np.exp(-r*dt)\n",
    "\n",
    "    # initialise stock prices at maturity\n",
    "    S = np.zeros(N+1)\n",
    "    for j in range(0, N+1):\n",
    "        S[j] = S0 * u**j * d**(N-j)\n",
    "\n",
    "    # option payoff\n",
    "    C = np.zeros(N+1)\n",
    "    for j in range(0, N+1):\n",
    "        if opttype == 'P':\n",
    "            C[j] = max(0, K - S[j])\n",
    "        else:\n",
    "            C[j] = max(0, S[j] - K)\n",
    "\n",
    "    # backward recursion through the tree\n",
    "    for i in np.arange(N-1,-1,-1):\n",
    "        for j in range(0,i+1):\n",
    "            S = S0 * u**j * d**(i-j)\n",
    "            C[j] = disc * ( q*C[j+1] + (1-q)*C[j] )\n",
    "            if opttype == 'P':\n",
    "                C[j] = max(C[j], K - S)\n",
    "            else:\n",
    "                C[j] = max(C[j], S - K)\n",
    "\n",
    "    return C[0]\n",
    "\n",
    "american_slow_tree(K,T,S0,r,N,u,d,opttype='P')"
   ]
  },
  {
   "cell_type": "markdown",
   "metadata": {
    "id": "P2lLA26963ry"
   },
   "source": [
    "### American Tree Fast\n",
    "\n",
    "Now we will vectorise out code using numpy arrays instead of for loops through j nodes."
   ]
  },
  {
   "cell_type": "code",
   "execution_count": 5,
   "metadata": {
    "colab": {
     "base_uri": "https://localhost:8080/"
    },
    "executionInfo": {
     "elapsed": 3,
     "status": "ok",
     "timestamp": 1644887258344,
     "user": {
      "displayName": "Jonathon Emerick",
      "photoUrl": "https://lh3.googleusercontent.com/a-/AOh14Giq9xEw4DhtJYHMD-QFk9rivPfE8jUcWMAkBjHx=s64",
      "userId": "16629380951441395759"
     },
     "user_tz": -600
    },
    "id": "GRxQX-D_63ry",
    "outputId": "b69e0f47-801d-4047-e868-994d49cae2e3"
   },
   "outputs": [
    {
     "name": "stdout",
     "output_type": "stream",
     "text": [
      "func:'american_fast_tree' args:[(100, 1, 100, 0.06, 3, 1.1, 0.9090909090909091), {'opttype': 'P'}] took: 0.0008 sec\n"
     ]
    },
    {
     "data": {
      "text/plain": [
       "np.float64(4.654588754602527)"
      ]
     },
     "execution_count": 5,
     "metadata": {},
     "output_type": "execute_result"
    }
   ],
   "source": [
    "@timing\n",
    "def american_fast_tree(K,T,S0,r,N,u,d,opttype='P'):\n",
    "    #precompute values\n",
    "    dt = T/N\n",
    "    q = (np.exp(r*dt) - d)/(u-d)\n",
    "    disc = np.exp(-r*dt)\n",
    "\n",
    "    # initialise stock prices at maturity\n",
    "    S = S0 * d**(np.arange(N,-1,-1)) * u**(np.arange(0,N+1,1))\n",
    "\n",
    "    # option payoff\n",
    "    if opttype == 'P':\n",
    "        C = np.maximum(0, K - S)\n",
    "    else:\n",
    "        C = np.maximum(0, S - K)\n",
    "\n",
    "    # backward recursion through the tree\n",
    "    for i in np.arange(N-1,-1,-1):\n",
    "        S = S0 * d**(np.arange(i,-1,-1)) * u**(np.arange(0,i+1,1))\n",
    "        C[:i+1] = disc * ( q*C[1:i+2] + (1-q)*C[0:i+1] )\n",
    "        C = C[:-1]\n",
    "        if opttype == 'P':\n",
    "            C = np.maximum(C, K - S)\n",
    "        else:\n",
    "            C = np.maximum(C, S - K)\n",
    "\n",
    "    return C[0]\n",
    "\n",
    "american_fast_tree(K,T,S0,r,N,u,d,opttype='P')"
   ]
  },
  {
   "cell_type": "markdown",
   "metadata": {
    "id": "T3V15VAG63rz"
   },
   "source": [
    "### Binomial Tree Slow vs Fast\n",
    "\n",
    "Now we will compare runtimes for slow vs fast. Ignore option price changes as this is impacted with changing the time steps and keeping the u and d factors the same."
   ]
  },
  {
   "cell_type": "code",
   "execution_count": 6,
   "metadata": {
    "colab": {
     "base_uri": "https://localhost:8080/"
    },
    "id": "g3E2qj1n63rz",
    "outputId": "5572e197-9781-4be5-c81a-a12aecbe2099"
   },
   "outputs": [
    {
     "name": "stdout",
     "output_type": "stream",
     "text": [
      "func:'american_fast_tree' args:[(100, 1, 100, 0.06, 3, 1.1, 0.9090909090909091), {'opttype': 'P'}] took: 0.0002 sec\n",
      "func:'american_slow_tree' args:[(100, 1, 100, 0.06, 3, 1.1, 0.9090909090909091), {'opttype': 'P'}] took: 0.0001 sec\n",
      "func:'american_fast_tree' args:[(100, 1, 100, 0.06, 50, 1.1, 0.9090909090909091), {'opttype': 'P'}] took: 0.0021 sec\n",
      "func:'american_slow_tree' args:[(100, 1, 100, 0.06, 50, 1.1, 0.9090909090909091), {'opttype': 'P'}] took: 0.0068 sec\n",
      "func:'american_fast_tree' args:[(100, 1, 100, 0.06, 100, 1.1, 0.9090909090909091), {'opttype': 'P'}] took: 0.0045 sec\n",
      "func:'american_slow_tree' args:[(100, 1, 100, 0.06, 100, 1.1, 0.9090909090909091), {'opttype': 'P'}] took: 0.0268 sec\n",
      "func:'american_fast_tree' args:[(100, 1, 100, 0.06, 1000, 1.1, 0.9090909090909091), {'opttype': 'P'}] took: 0.0526 sec\n",
      "func:'american_slow_tree' args:[(100, 1, 100, 0.06, 1000, 1.1, 0.9090909090909091), {'opttype': 'P'}] took: 2.6593 sec\n",
      "func:'american_fast_tree' args:[(100, 1, 100, 0.06, 5000, 1.1, 0.9090909090909091), {'opttype': 'P'}] took: 0.7138 sec\n",
      "func:'american_slow_tree' args:[(100, 1, 100, 0.06, 5000, 1.1, 0.9090909090909091), {'opttype': 'P'}] took: 68.7059 sec\n"
     ]
    }
   ],
   "source": [
    "for N in [3,50, 100, 1000, 5000]:\n",
    "    american_fast_tree(K,T,S0,r,N,u,d,opttype='P')\n",
    "    american_slow_tree(K,T,S0,r,N,u,d,opttype='P')"
   ]
  },
  {
   "cell_type": "code",
   "execution_count": null,
   "metadata": {},
   "outputs": [],
   "source": []
  }
 ],
 "metadata": {
  "colab": {
   "provenance": []
  },
  "kernelspec": {
   "display_name": "Python [conda env:base] *",
   "language": "python",
   "name": "conda-base-py"
  },
  "language_info": {
   "codemirror_mode": {
    "name": "ipython",
    "version": 3
   },
   "file_extension": ".py",
   "mimetype": "text/x-python",
   "name": "python",
   "nbconvert_exporter": "python",
   "pygments_lexer": "ipython3",
   "version": "3.13.5"
  }
 },
 "nbformat": 4,
 "nbformat_minor": 4
}
